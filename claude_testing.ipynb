{
 "cells": [
  {
   "cell_type": "code",
   "execution_count": 41,
   "metadata": {},
   "outputs": [
    {
     "data": {
      "text/plain": [
       "True"
      ]
     },
     "execution_count": 41,
     "metadata": {},
     "output_type": "execute_result"
    }
   ],
   "source": [
    "from anthropic import Anthropic\n",
    "from dotenv import load_dotenv\n",
    "import os\n",
    "import numpy as np\n",
    "\n",
    "load_dotenv()"
   ]
  },
  {
   "cell_type": "code",
   "execution_count": 27,
   "metadata": {},
   "outputs": [],
   "source": [
    "client = Anthropic(api_key = os.environ[\"ANTHROPIC_API_KEY\"])"
   ]
  },
  {
   "cell_type": "code",
   "execution_count": 56,
   "metadata": {},
   "outputs": [],
   "source": [
    "prompt_main = \"\"\"You are a talented actor in a play called The Adding Machine. Your task is to take a description of the current scene, your character, and the previous lines read by the other actors and generate your character's next line. \n",
    "You will also be provided the next line spoken, make sure that your response makes sense not only in the context of the previous lines but also the line that follows yours. Your response will only be the line your character will say and nothing else.\n",
    "Do not include sounds for your character to make in your response (for example, sighing, yawning, etc).\"\"\"\n",
    "\n",
    "scene_desc = \"Your character is sitting at a table next to Alice and Bob, fellow coworkers. You are deciding where to order lunch from.\"\n",
    "\n",
    "char_desc = \"You play Dave, a long-winded, rude tech executive who is a picky eater.\"\n",
    "\n",
    "lines = \"\"\"Alice: Ok, it's almost lunch time, are you guys in the mood for anything?\n",
    "Bob: I'm down for anything, what do you think Dave?\n",
    "Dave: \n",
    "Bob: I'm not too sure about that place, last time I got food poisoning\n",
    "Dave: \n",
    "Alice: Ok, I'll  decide then. Let's go get Chipotle!\n",
    "Dave:\"\"\""
   ]
  },
  {
   "cell_type": "code",
   "execution_count": 80,
   "metadata": {},
   "outputs": [],
   "source": [
    "split_lines = (lines.split(\"\\n\"))"
   ]
  },
  {
   "cell_type": "code",
   "execution_count": 81,
   "metadata": {},
   "outputs": [],
   "source": [
    "your_line_idxs = [i for i in range(len(split_lines)) if len(split_lines[i].split(\":\")[1].strip()) == 0]"
   ]
  },
  {
   "cell_type": "code",
   "execution_count": 82,
   "metadata": {},
   "outputs": [],
   "source": [
    "prompt = \"\"\"\n",
    "You are a talented actor in a play called The Adding Machine. Your task is to take a description of the current scene, your character, and the previous lines read by the other actors and generate your character's next line. \n",
    "You will also be provided the next line spoken, make sure that your response makes sense not only in the context of the previous lines but also the line that follows yours. Your response will only be the line your character will say and nothing else.\n",
    "You must not include sounds for your character to make in your response (for example, *sigh*, sighing, yawning, etc).\n",
    "\n",
    "Scene Description:\n",
    "Your character is sitting at a table next to Alice and Bob, fellow coworkers. You are deciding where to order lunch from.\n",
    "\n",
    "Character Description:\n",
    "You play Dave, a long-winded, rude tech executive who is a picky eater.\n",
    "\n",
    "Lines:\n",
    "{lines}\n",
    "\n",
    "Next Line:\n",
    "{next_line}\n",
    "\"\"\""
   ]
  },
  {
   "cell_type": "code",
   "execution_count": 83,
   "metadata": {},
   "outputs": [],
   "source": [
    "for i in range(len(your_line_idxs)):\n",
    "    idx = your_line_idxs[i]\n",
    "    prev_lines = np.array(split_lines)[list(range(0, idx+1))]\n",
    "    try:\n",
    "        next_line = split_lines[idx+1]\n",
    "    except:\n",
    "        next_line = \"None\"\n",
    "\n",
    "    lines_template = \"\\n\".join(prev_lines)\n",
    "    p = prompt.format(lines=lines_template, next_line=next_line)\n",
    "\n",
    "    message = client.messages.create(\n",
    "        max_tokens=1024,\n",
    "        messages=[\n",
    "            {\n",
    "                \"role\": \"user\",\n",
    "                \"content\": p\n",
    "            }\n",
    "        ],\n",
    "        temperature=0.9,\n",
    "        top_p=0.5,\n",
    "        model=\"claude-3-opus-20240229\"\n",
    "    )\n",
    "\n",
    "    split_lines[your_line_idxs[i]] += message.content[0].text"
   ]
  },
  {
   "cell_type": "code",
   "execution_count": 84,
   "metadata": {},
   "outputs": [
    {
     "data": {
      "text/plain": [
       "[\"Alice: Ok, it's almost lunch time, are you guys in the mood for anything?\",\n",
       " \"Bob: I'm down for anything, what do you think Dave?\",\n",
       " 'Dave: Well, I\\'ve been thinking about this a lot, and I have to say, there\\'s only one place that truly meets my discerning culinary standards. It\\'s this little hole-in-the-wall joint called \"The Greasy Spoon.\" Now, I know what you\\'re thinking, but trust me, their food is absolutely exquisite. The chef is a true artist, and the way he crafts each dish is simply unparalleled. I won\\'t settle for anything less than perfection, and \"The Greasy Spoon\" is the only place that consistently delivers. So, that\\'s my vote, take it or leave it.',\n",
       " \"Bob: I'm not too sure about that place, last time I got food poisoning\",\n",
       " 'Dave: Bob, your weak stomach is not my problem. I refuse to compromise my refined palate just because you can\\'t handle a little culinary adventure. \"The Greasy Spoon\" is a hidden gem, and if you can\\'t appreciate that, then maybe you should stick to your bland, mass-produced fast food. I, for one, will not be swayed by your pedestrian tastes.',\n",
       " \"Alice: Ok, I'll  decide then. Let's go get Chipotle!\",\n",
       " \"Dave:Chipotle? Are you serious, Alice? That's just a glorified burrito joint for the masses. I thought we were aiming for something with a bit more sophistication and finesse. But fine, if you insist on settling for mediocrity, go ahead. Just don't expect me to lower my standards and join you on this culinary catastrophe.\"]"
      ]
     },
     "execution_count": 84,
     "metadata": {},
     "output_type": "execute_result"
    }
   ],
   "source": [
    "split_lines"
   ]
  },
  {
   "cell_type": "code",
   "execution_count": 24,
   "metadata": {},
   "outputs": [],
   "source": []
  },
  {
   "cell_type": "code",
   "execution_count": 25,
   "metadata": {},
   "outputs": [
    {
     "data": {
      "text/plain": [
       "\"Chipotle? Really? I suppose if you enjoy bland, mass-produced burritos filled with subpar ingredients, then by all means, let's go. But don't expect me to lower my standards to accommodate your pedestrian tastes.\""
      ]
     },
     "execution_count": 25,
     "metadata": {},
     "output_type": "execute_result"
    }
   ],
   "source": []
  },
  {
   "cell_type": "code",
   "execution_count": null,
   "metadata": {},
   "outputs": [],
   "source": []
  }
 ],
 "metadata": {
  "kernelspec": {
   "display_name": ".venv",
   "language": "python",
   "name": "python3"
  },
  "language_info": {
   "codemirror_mode": {
    "name": "ipython",
    "version": 3
   },
   "file_extension": ".py",
   "mimetype": "text/x-python",
   "name": "python",
   "nbconvert_exporter": "python",
   "pygments_lexer": "ipython3",
   "version": "3.10.11"
  }
 },
 "nbformat": 4,
 "nbformat_minor": 2
}
